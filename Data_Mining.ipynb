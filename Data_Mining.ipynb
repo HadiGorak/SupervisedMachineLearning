{
 "cells": [
  {
   "cell_type": "markdown",
   "metadata": {},
   "source": [
    "# Data Mining, data structure and Algorithem\n"
   ]
  },
  {
   "cell_type": "markdown",
   "metadata": {},
   "source": [
    "## Importing necessary libraries"
   ]
  },
  {
   "cell_type": "code",
   "execution_count": 1,
   "metadata": {},
   "outputs": [],
   "source": [
    "import matplotlib.pyplot as plt\n",
    "import scipy \n",
    "import pandas as pd\n",
    "import numpy as np"
   ]
  },
  {
   "cell_type": "markdown",
   "metadata": {},
   "source": [
    "reading the label.csv into a panda data_frame called df, and showing the two top rows"
   ]
  },
  {
   "cell_type": "code",
   "execution_count": 2,
   "metadata": {},
   "outputs": [
    {
     "ename": "FileNotFoundError",
     "evalue": "[Errno 2] File b'Label.csv' does not exist: b'Label.csv'",
     "output_type": "error",
     "traceback": [
      "\u001b[0;31m---------------------------------------------------------------------------\u001b[0m",
      "\u001b[0;31mFileNotFoundError\u001b[0m                         Traceback (most recent call last)",
      "\u001b[0;32m<ipython-input-2-118358561fab>\u001b[0m in \u001b[0;36m<module>\u001b[0;34m\u001b[0m\n\u001b[0;32m----> 1\u001b[0;31m \u001b[0mdf\u001b[0m \u001b[0;34m=\u001b[0m \u001b[0mpd\u001b[0m\u001b[0;34m.\u001b[0m\u001b[0mread_csv\u001b[0m\u001b[0;34m(\u001b[0m\u001b[0;34m'Label.csv'\u001b[0m \u001b[0;34m)\u001b[0m\u001b[0;34m\u001b[0m\u001b[0;34m\u001b[0m\u001b[0m\n\u001b[0m\u001b[1;32m      2\u001b[0m \u001b[0mdf\u001b[0m\u001b[0;34m.\u001b[0m\u001b[0mhead\u001b[0m\u001b[0;34m(\u001b[0m\u001b[0;36m2\u001b[0m\u001b[0;34m)\u001b[0m\u001b[0;34m\u001b[0m\u001b[0;34m\u001b[0m\u001b[0m\n",
      "\u001b[0;32m~/anaconda3/envs/tensorflow/lib/python3.7/site-packages/pandas/io/parsers.py\u001b[0m in \u001b[0;36mparser_f\u001b[0;34m(filepath_or_buffer, sep, delimiter, header, names, index_col, usecols, squeeze, prefix, mangle_dupe_cols, dtype, engine, converters, true_values, false_values, skipinitialspace, skiprows, skipfooter, nrows, na_values, keep_default_na, na_filter, verbose, skip_blank_lines, parse_dates, infer_datetime_format, keep_date_col, date_parser, dayfirst, iterator, chunksize, compression, thousands, decimal, lineterminator, quotechar, quoting, doublequote, escapechar, comment, encoding, dialect, tupleize_cols, error_bad_lines, warn_bad_lines, delim_whitespace, low_memory, memory_map, float_precision)\u001b[0m\n\u001b[1;32m    700\u001b[0m                     skip_blank_lines=skip_blank_lines)\n\u001b[1;32m    701\u001b[0m \u001b[0;34m\u001b[0m\u001b[0m\n\u001b[0;32m--> 702\u001b[0;31m         \u001b[0;32mreturn\u001b[0m \u001b[0m_read\u001b[0m\u001b[0;34m(\u001b[0m\u001b[0mfilepath_or_buffer\u001b[0m\u001b[0;34m,\u001b[0m \u001b[0mkwds\u001b[0m\u001b[0;34m)\u001b[0m\u001b[0;34m\u001b[0m\u001b[0;34m\u001b[0m\u001b[0m\n\u001b[0m\u001b[1;32m    703\u001b[0m \u001b[0;34m\u001b[0m\u001b[0m\n\u001b[1;32m    704\u001b[0m     \u001b[0mparser_f\u001b[0m\u001b[0;34m.\u001b[0m\u001b[0m__name__\u001b[0m \u001b[0;34m=\u001b[0m \u001b[0mname\u001b[0m\u001b[0;34m\u001b[0m\u001b[0;34m\u001b[0m\u001b[0m\n",
      "\u001b[0;32m~/anaconda3/envs/tensorflow/lib/python3.7/site-packages/pandas/io/parsers.py\u001b[0m in \u001b[0;36m_read\u001b[0;34m(filepath_or_buffer, kwds)\u001b[0m\n\u001b[1;32m    427\u001b[0m \u001b[0;34m\u001b[0m\u001b[0m\n\u001b[1;32m    428\u001b[0m     \u001b[0;31m# Create the parser.\u001b[0m\u001b[0;34m\u001b[0m\u001b[0;34m\u001b[0m\u001b[0;34m\u001b[0m\u001b[0m\n\u001b[0;32m--> 429\u001b[0;31m     \u001b[0mparser\u001b[0m \u001b[0;34m=\u001b[0m \u001b[0mTextFileReader\u001b[0m\u001b[0;34m(\u001b[0m\u001b[0mfilepath_or_buffer\u001b[0m\u001b[0;34m,\u001b[0m \u001b[0;34m**\u001b[0m\u001b[0mkwds\u001b[0m\u001b[0;34m)\u001b[0m\u001b[0;34m\u001b[0m\u001b[0;34m\u001b[0m\u001b[0m\n\u001b[0m\u001b[1;32m    430\u001b[0m \u001b[0;34m\u001b[0m\u001b[0m\n\u001b[1;32m    431\u001b[0m     \u001b[0;32mif\u001b[0m \u001b[0mchunksize\u001b[0m \u001b[0;32mor\u001b[0m \u001b[0miterator\u001b[0m\u001b[0;34m:\u001b[0m\u001b[0;34m\u001b[0m\u001b[0;34m\u001b[0m\u001b[0m\n",
      "\u001b[0;32m~/anaconda3/envs/tensorflow/lib/python3.7/site-packages/pandas/io/parsers.py\u001b[0m in \u001b[0;36m__init__\u001b[0;34m(self, f, engine, **kwds)\u001b[0m\n\u001b[1;32m    893\u001b[0m             \u001b[0mself\u001b[0m\u001b[0;34m.\u001b[0m\u001b[0moptions\u001b[0m\u001b[0;34m[\u001b[0m\u001b[0;34m'has_index_names'\u001b[0m\u001b[0;34m]\u001b[0m \u001b[0;34m=\u001b[0m \u001b[0mkwds\u001b[0m\u001b[0;34m[\u001b[0m\u001b[0;34m'has_index_names'\u001b[0m\u001b[0;34m]\u001b[0m\u001b[0;34m\u001b[0m\u001b[0;34m\u001b[0m\u001b[0m\n\u001b[1;32m    894\u001b[0m \u001b[0;34m\u001b[0m\u001b[0m\n\u001b[0;32m--> 895\u001b[0;31m         \u001b[0mself\u001b[0m\u001b[0;34m.\u001b[0m\u001b[0m_make_engine\u001b[0m\u001b[0;34m(\u001b[0m\u001b[0mself\u001b[0m\u001b[0;34m.\u001b[0m\u001b[0mengine\u001b[0m\u001b[0;34m)\u001b[0m\u001b[0;34m\u001b[0m\u001b[0;34m\u001b[0m\u001b[0m\n\u001b[0m\u001b[1;32m    896\u001b[0m \u001b[0;34m\u001b[0m\u001b[0m\n\u001b[1;32m    897\u001b[0m     \u001b[0;32mdef\u001b[0m \u001b[0mclose\u001b[0m\u001b[0;34m(\u001b[0m\u001b[0mself\u001b[0m\u001b[0;34m)\u001b[0m\u001b[0;34m:\u001b[0m\u001b[0;34m\u001b[0m\u001b[0;34m\u001b[0m\u001b[0m\n",
      "\u001b[0;32m~/anaconda3/envs/tensorflow/lib/python3.7/site-packages/pandas/io/parsers.py\u001b[0m in \u001b[0;36m_make_engine\u001b[0;34m(self, engine)\u001b[0m\n\u001b[1;32m   1120\u001b[0m     \u001b[0;32mdef\u001b[0m \u001b[0m_make_engine\u001b[0m\u001b[0;34m(\u001b[0m\u001b[0mself\u001b[0m\u001b[0;34m,\u001b[0m \u001b[0mengine\u001b[0m\u001b[0;34m=\u001b[0m\u001b[0;34m'c'\u001b[0m\u001b[0;34m)\u001b[0m\u001b[0;34m:\u001b[0m\u001b[0;34m\u001b[0m\u001b[0;34m\u001b[0m\u001b[0m\n\u001b[1;32m   1121\u001b[0m         \u001b[0;32mif\u001b[0m \u001b[0mengine\u001b[0m \u001b[0;34m==\u001b[0m \u001b[0;34m'c'\u001b[0m\u001b[0;34m:\u001b[0m\u001b[0;34m\u001b[0m\u001b[0;34m\u001b[0m\u001b[0m\n\u001b[0;32m-> 1122\u001b[0;31m             \u001b[0mself\u001b[0m\u001b[0;34m.\u001b[0m\u001b[0m_engine\u001b[0m \u001b[0;34m=\u001b[0m \u001b[0mCParserWrapper\u001b[0m\u001b[0;34m(\u001b[0m\u001b[0mself\u001b[0m\u001b[0;34m.\u001b[0m\u001b[0mf\u001b[0m\u001b[0;34m,\u001b[0m \u001b[0;34m**\u001b[0m\u001b[0mself\u001b[0m\u001b[0;34m.\u001b[0m\u001b[0moptions\u001b[0m\u001b[0;34m)\u001b[0m\u001b[0;34m\u001b[0m\u001b[0;34m\u001b[0m\u001b[0m\n\u001b[0m\u001b[1;32m   1123\u001b[0m         \u001b[0;32melse\u001b[0m\u001b[0;34m:\u001b[0m\u001b[0;34m\u001b[0m\u001b[0;34m\u001b[0m\u001b[0m\n\u001b[1;32m   1124\u001b[0m             \u001b[0;32mif\u001b[0m \u001b[0mengine\u001b[0m \u001b[0;34m==\u001b[0m \u001b[0;34m'python'\u001b[0m\u001b[0;34m:\u001b[0m\u001b[0;34m\u001b[0m\u001b[0;34m\u001b[0m\u001b[0m\n",
      "\u001b[0;32m~/anaconda3/envs/tensorflow/lib/python3.7/site-packages/pandas/io/parsers.py\u001b[0m in \u001b[0;36m__init__\u001b[0;34m(self, src, **kwds)\u001b[0m\n\u001b[1;32m   1851\u001b[0m         \u001b[0mkwds\u001b[0m\u001b[0;34m[\u001b[0m\u001b[0;34m'usecols'\u001b[0m\u001b[0;34m]\u001b[0m \u001b[0;34m=\u001b[0m \u001b[0mself\u001b[0m\u001b[0;34m.\u001b[0m\u001b[0musecols\u001b[0m\u001b[0;34m\u001b[0m\u001b[0;34m\u001b[0m\u001b[0m\n\u001b[1;32m   1852\u001b[0m \u001b[0;34m\u001b[0m\u001b[0m\n\u001b[0;32m-> 1853\u001b[0;31m         \u001b[0mself\u001b[0m\u001b[0;34m.\u001b[0m\u001b[0m_reader\u001b[0m \u001b[0;34m=\u001b[0m \u001b[0mparsers\u001b[0m\u001b[0;34m.\u001b[0m\u001b[0mTextReader\u001b[0m\u001b[0;34m(\u001b[0m\u001b[0msrc\u001b[0m\u001b[0;34m,\u001b[0m \u001b[0;34m**\u001b[0m\u001b[0mkwds\u001b[0m\u001b[0;34m)\u001b[0m\u001b[0;34m\u001b[0m\u001b[0;34m\u001b[0m\u001b[0m\n\u001b[0m\u001b[1;32m   1854\u001b[0m         \u001b[0mself\u001b[0m\u001b[0;34m.\u001b[0m\u001b[0munnamed_cols\u001b[0m \u001b[0;34m=\u001b[0m \u001b[0mself\u001b[0m\u001b[0;34m.\u001b[0m\u001b[0m_reader\u001b[0m\u001b[0;34m.\u001b[0m\u001b[0munnamed_cols\u001b[0m\u001b[0;34m\u001b[0m\u001b[0;34m\u001b[0m\u001b[0m\n\u001b[1;32m   1855\u001b[0m \u001b[0;34m\u001b[0m\u001b[0m\n",
      "\u001b[0;32mpandas/_libs/parsers.pyx\u001b[0m in \u001b[0;36mpandas._libs.parsers.TextReader.__cinit__\u001b[0;34m()\u001b[0m\n",
      "\u001b[0;32mpandas/_libs/parsers.pyx\u001b[0m in \u001b[0;36mpandas._libs.parsers.TextReader._setup_parser_source\u001b[0;34m()\u001b[0m\n",
      "\u001b[0;31mFileNotFoundError\u001b[0m: [Errno 2] File b'Label.csv' does not exist: b'Label.csv'"
     ]
    }
   ],
   "source": [
    "df = pd.read_csv('Label.csv' )\n",
    "df.head(2)"
   ]
  },
  {
   "cell_type": "code",
   "execution_count": 35,
   "metadata": {},
   "outputs": [
    {
     "data": {
      "text/html": [
       "<div>\n",
       "<style scoped>\n",
       "    .dataframe tbody tr th:only-of-type {\n",
       "        vertical-align: middle;\n",
       "    }\n",
       "\n",
       "    .dataframe tbody tr th {\n",
       "        vertical-align: top;\n",
       "    }\n",
       "\n",
       "    .dataframe thead th {\n",
       "        text-align: right;\n",
       "    }\n",
       "</style>\n",
       "<table border=\"1\" class=\"dataframe\">\n",
       "  <thead>\n",
       "    <tr style=\"text-align: right;\">\n",
       "      <th></th>\n",
       "      <th>file_name</th>\n",
       "      <th>brand_name</th>\n",
       "      <th>product_name</th>\n",
       "      <th>Price</th>\n",
       "    </tr>\n",
       "  </thead>\n",
       "  <tbody>\n",
       "    <tr>\n",
       "      <th>0</th>\n",
       "      <td>0_0_001.png</td>\n",
       "      <td>Christian Louboutin</td>\n",
       "      <td>shoes</td>\n",
       "      <td>293.43</td>\n",
       "    </tr>\n",
       "    <tr>\n",
       "      <th>1</th>\n",
       "      <td>0_0_002.png</td>\n",
       "      <td>Christian Louboutin</td>\n",
       "      <td>shoes</td>\n",
       "      <td>299.84</td>\n",
       "    </tr>\n",
       "    <tr>\n",
       "      <th>2</th>\n",
       "      <td>0_0_003.png</td>\n",
       "      <td>Christian Louboutin</td>\n",
       "      <td>shoes</td>\n",
       "      <td>216.33</td>\n",
       "    </tr>\n",
       "    <tr>\n",
       "      <th>3</th>\n",
       "      <td>0_0_004.png</td>\n",
       "      <td>Christian Louboutin</td>\n",
       "      <td>shoes</td>\n",
       "      <td>1.71</td>\n",
       "    </tr>\n",
       "    <tr>\n",
       "      <th>4</th>\n",
       "      <td>0_0_005.png</td>\n",
       "      <td>Christian Louboutin</td>\n",
       "      <td>shoes</td>\n",
       "      <td>297.71</td>\n",
       "    </tr>\n",
       "  </tbody>\n",
       "</table>\n",
       "</div>"
      ],
      "text/plain": [
       "     file_name           brand_name product_name   Price\n",
       "0  0_0_001.png  Christian Louboutin        shoes  293.43\n",
       "1  0_0_002.png  Christian Louboutin        shoes  299.84\n",
       "2  0_0_003.png  Christian Louboutin        shoes  216.33\n",
       "3  0_0_004.png  Christian Louboutin        shoes    1.71\n",
       "4  0_0_005.png  Christian Louboutin        shoes  297.71"
      ]
     },
     "execution_count": 35,
     "metadata": {},
     "output_type": "execute_result"
    }
   ],
   "source": [
    "df1 = df[['file_name', 'brand_name', 'product_name', 'Price',]]\n",
    "df1.head(5)"
   ]
  },
  {
   "cell_type": "code",
   "execution_count": 13,
   "metadata": {
    "scrolled": true
   },
   "outputs": [
    {
     "data": {
      "text/html": [
       "<div>\n",
       "<style scoped>\n",
       "    .dataframe tbody tr th:only-of-type {\n",
       "        vertical-align: middle;\n",
       "    }\n",
       "\n",
       "    .dataframe tbody tr th {\n",
       "        vertical-align: top;\n",
       "    }\n",
       "\n",
       "    .dataframe thead th {\n",
       "        text-align: right;\n",
       "    }\n",
       "</style>\n",
       "<table border=\"1\" class=\"dataframe\">\n",
       "  <thead>\n",
       "    <tr style=\"text-align: right;\">\n",
       "      <th></th>\n",
       "      <th>Price</th>\n",
       "    </tr>\n",
       "  </thead>\n",
       "  <tbody>\n",
       "    <tr>\n",
       "      <th>count</th>\n",
       "      <td>2184.000000</td>\n",
       "    </tr>\n",
       "    <tr>\n",
       "      <th>mean</th>\n",
       "      <td>151.256786</td>\n",
       "    </tr>\n",
       "    <tr>\n",
       "      <th>std</th>\n",
       "      <td>86.216570</td>\n",
       "    </tr>\n",
       "    <tr>\n",
       "      <th>min</th>\n",
       "      <td>0.520000</td>\n",
       "    </tr>\n",
       "    <tr>\n",
       "      <th>25%</th>\n",
       "      <td>76.310000</td>\n",
       "    </tr>\n",
       "    <tr>\n",
       "      <th>50%</th>\n",
       "      <td>154.815000</td>\n",
       "    </tr>\n",
       "    <tr>\n",
       "      <th>75%</th>\n",
       "      <td>226.012500</td>\n",
       "    </tr>\n",
       "    <tr>\n",
       "      <th>max</th>\n",
       "      <td>299.920000</td>\n",
       "    </tr>\n",
       "  </tbody>\n",
       "</table>\n",
       "</div>"
      ],
      "text/plain": [
       "             Price\n",
       "count  2184.000000\n",
       "mean    151.256786\n",
       "std      86.216570\n",
       "min       0.520000\n",
       "25%      76.310000\n",
       "50%     154.815000\n",
       "75%     226.012500\n",
       "max     299.920000"
      ]
     },
     "execution_count": 13,
     "metadata": {},
     "output_type": "execute_result"
    }
   ],
   "source": [
    "df1.describe() #getting some statistical information from the data fram"
   ]
  },
  {
   "cell_type": "markdown",
   "metadata": {},
   "source": [
    "some extra tables to get additional information. It shows the most expensive product for each brand."
   ]
  },
  {
   "cell_type": "code",
   "execution_count": 14,
   "metadata": {},
   "outputs": [
    {
     "data": {
      "text/plain": [
       "brand_label  product_label\n",
       "0            0                299.84\n",
       "             1                281.29\n",
       "             2                277.22\n",
       "             3                295.73\n",
       "             8                298.02\n",
       "1            0                275.70\n",
       "             1                282.72\n",
       "             2                287.51\n",
       "             3                279.57\n",
       "             4                294.76\n",
       "             5                295.06\n",
       "             6                298.42\n",
       "             7                285.51\n",
       "             8                283.12\n",
       "             9                298.29\n",
       "2            0                294.86\n",
       "             1                290.36\n",
       "             2                292.66\n",
       "             3                282.12\n",
       "             4                280.69\n",
       "Name: Price, dtype: float64"
      ]
     },
     "execution_count": 14,
     "metadata": {},
     "output_type": "execute_result"
    }
   ],
   "source": [
    "df_sorted = df.groupby(['brand_name','product_label'])['Price'].max()\n",
    "df_sorted.head(20)"
   ]
  },
  {
   "cell_type": "code",
   "execution_count": 15,
   "metadata": {},
   "outputs": [
    {
     "data": {
      "text/plain": [
       "brand_name       Christian Dior\n",
       "brand_label                   4\n",
       "product_name            watches\n",
       "product_label                 5\n",
       "file_name           4_5_033.png\n",
       "Price                    299.92\n",
       "Name: 1453, dtype: object"
      ]
     },
     "execution_count": 15,
     "metadata": {},
     "output_type": "execute_result"
    }
   ],
   "source": [
    "df.loc[df['Price'].idxmax()]  #most expensive item"
   ]
  },
  {
   "cell_type": "code",
   "execution_count": 16,
   "metadata": {},
   "outputs": [
    {
     "data": {
      "text/plain": [
       "brand_name             Gucci\n",
       "brand_label                3\n",
       "product_name         watches\n",
       "product_label              5\n",
       "file_name        3_5_003.png\n",
       "Price                   0.52\n",
       "Name: 1040, dtype: object"
      ]
     },
     "execution_count": 16,
     "metadata": {},
     "output_type": "execute_result"
    }
   ],
   "source": [
    "df.loc[df['Price'].idxmin()]  #cheapest item"
   ]
  },
  {
   "cell_type": "markdown",
   "metadata": {},
   "source": [
    "Grouping each items in regards to thier price. "
   ]
  },
  {
   "cell_type": "code",
   "execution_count": 17,
   "metadata": {},
   "outputs": [
    {
     "name": "stderr",
     "output_type": "stream",
     "text": [
      "/Users/HadiGorak/anaconda3/envs/tensorflow/lib/python3.7/site-packages/ipykernel_launcher.py:3: SettingWithCopyWarning: \n",
      "A value is trying to be set on a copy of a slice from a DataFrame.\n",
      "Try using .loc[row_indexer,col_indexer] = value instead\n",
      "\n",
      "See the caveats in the documentation: http://pandas.pydata.org/pandas-docs/stable/indexing.html#indexing-view-versus-copy\n",
      "  This is separate from the ipykernel package so we can avoid doing imports until\n"
     ]
    },
    {
     "data": {
      "text/html": [
       "<div>\n",
       "<style scoped>\n",
       "    .dataframe tbody tr th:only-of-type {\n",
       "        vertical-align: middle;\n",
       "    }\n",
       "\n",
       "    .dataframe tbody tr th {\n",
       "        vertical-align: top;\n",
       "    }\n",
       "\n",
       "    .dataframe thead th {\n",
       "        text-align: right;\n",
       "    }\n",
       "</style>\n",
       "<table border=\"1\" class=\"dataframe\">\n",
       "  <thead>\n",
       "    <tr style=\"text-align: right;\">\n",
       "      <th></th>\n",
       "      <th>file_name</th>\n",
       "      <th>brand_name</th>\n",
       "      <th>product_name</th>\n",
       "      <th>Price</th>\n",
       "      <th>Price_bined</th>\n",
       "    </tr>\n",
       "  </thead>\n",
       "  <tbody>\n",
       "    <tr>\n",
       "      <th>0</th>\n",
       "      <td>0_0_001.png</td>\n",
       "      <td>Christian Louboutin</td>\n",
       "      <td>shoes</td>\n",
       "      <td>293.43</td>\n",
       "      <td>(266.667, 300.0]</td>\n",
       "    </tr>\n",
       "    <tr>\n",
       "      <th>1</th>\n",
       "      <td>0_0_002.png</td>\n",
       "      <td>Christian Louboutin</td>\n",
       "      <td>shoes</td>\n",
       "      <td>299.84</td>\n",
       "      <td>(266.667, 300.0]</td>\n",
       "    </tr>\n",
       "    <tr>\n",
       "      <th>2</th>\n",
       "      <td>0_0_003.png</td>\n",
       "      <td>Christian Louboutin</td>\n",
       "      <td>shoes</td>\n",
       "      <td>216.33</td>\n",
       "      <td>(200.0, 233.333]</td>\n",
       "    </tr>\n",
       "    <tr>\n",
       "      <th>3</th>\n",
       "      <td>0_0_004.png</td>\n",
       "      <td>Christian Louboutin</td>\n",
       "      <td>shoes</td>\n",
       "      <td>1.71</td>\n",
       "      <td>(-0.001, 33.333]</td>\n",
       "    </tr>\n",
       "    <tr>\n",
       "      <th>4</th>\n",
       "      <td>0_0_005.png</td>\n",
       "      <td>Christian Louboutin</td>\n",
       "      <td>shoes</td>\n",
       "      <td>297.71</td>\n",
       "      <td>(266.667, 300.0]</td>\n",
       "    </tr>\n",
       "    <tr>\n",
       "      <th>5</th>\n",
       "      <td>0_0_006.png</td>\n",
       "      <td>Christian Louboutin</td>\n",
       "      <td>shoes</td>\n",
       "      <td>246.77</td>\n",
       "      <td>(233.333, 266.667]</td>\n",
       "    </tr>\n",
       "    <tr>\n",
       "      <th>6</th>\n",
       "      <td>0_0_007.png</td>\n",
       "      <td>Christian Louboutin</td>\n",
       "      <td>shoes</td>\n",
       "      <td>114.27</td>\n",
       "      <td>(100.0, 133.333]</td>\n",
       "    </tr>\n",
       "    <tr>\n",
       "      <th>7</th>\n",
       "      <td>0_0_008.png</td>\n",
       "      <td>Christian Louboutin</td>\n",
       "      <td>shoes</td>\n",
       "      <td>296.94</td>\n",
       "      <td>(266.667, 300.0]</td>\n",
       "    </tr>\n",
       "    <tr>\n",
       "      <th>8</th>\n",
       "      <td>0_0_009.png</td>\n",
       "      <td>Christian Louboutin</td>\n",
       "      <td>shoes</td>\n",
       "      <td>231.29</td>\n",
       "      <td>(200.0, 233.333]</td>\n",
       "    </tr>\n",
       "    <tr>\n",
       "      <th>9</th>\n",
       "      <td>0_0_010.png</td>\n",
       "      <td>Christian Louboutin</td>\n",
       "      <td>shoes</td>\n",
       "      <td>244.13</td>\n",
       "      <td>(233.333, 266.667]</td>\n",
       "    </tr>\n",
       "  </tbody>\n",
       "</table>\n",
       "</div>"
      ],
      "text/plain": [
       "     file_name           brand_name product_name   Price         Price_bined\n",
       "0  0_0_001.png  Christian Louboutin        shoes  293.43    (266.667, 300.0]\n",
       "1  0_0_002.png  Christian Louboutin        shoes  299.84    (266.667, 300.0]\n",
       "2  0_0_003.png  Christian Louboutin        shoes  216.33    (200.0, 233.333]\n",
       "3  0_0_004.png  Christian Louboutin        shoes    1.71    (-0.001, 33.333]\n",
       "4  0_0_005.png  Christian Louboutin        shoes  297.71    (266.667, 300.0]\n",
       "5  0_0_006.png  Christian Louboutin        shoes  246.77  (233.333, 266.667]\n",
       "6  0_0_007.png  Christian Louboutin        shoes  114.27    (100.0, 133.333]\n",
       "7  0_0_008.png  Christian Louboutin        shoes  296.94    (266.667, 300.0]\n",
       "8  0_0_009.png  Christian Louboutin        shoes  231.29    (200.0, 233.333]\n",
       "9  0_0_010.png  Christian Louboutin        shoes  244.13  (233.333, 266.667]"
      ]
     },
     "execution_count": 17,
     "metadata": {},
     "output_type": "execute_result"
    }
   ],
   "source": [
    "bins = np.linspace(np.floor(min(df['Price'])),np.ceil(max(df['Price'])),10)\n",
    "\n",
    "df1[\"Price_bined\"] = pd.cut(df1['Price'],bins,include_lowest=True)\n",
    "df1.head(10)"
   ]
  },
  {
   "cell_type": "markdown",
   "metadata": {},
   "source": [
    "This small function create the additional column that categorize the items based on thier price. for instance any item with the price ranged [267,300] groups to gether. This will reduce the complexity of optimaization later on."
   ]
  },
  {
   "cell_type": "code",
   "execution_count": 18,
   "metadata": {
    "scrolled": true
   },
   "outputs": [
    {
     "data": {
      "text/plain": [
       "Text(0, 0.5, 'frequency')"
      ]
     },
     "execution_count": 18,
     "metadata": {},
     "output_type": "execute_result"
    },
    {
     "data": {
      "image/png": "[encoded data removed]",
      "text/plain": [
       "<Figure size 432x288 with 1 Axes>"
      ]
     },
     "metadata": {
      "needs_background": "light"
     },
     "output_type": "display_data"
    }
   ],
   "source": [
    "# Histogram of the price ranged, \n",
    "\n",
    "hist_Price = df[\"Price\"].hist(bins=10, alpha=1)\n",
    "hist_Price.set_title('Bined Price')\n",
    "hist_Price.set_xlabel('bins ($)')\n",
    "hist_Price.set_ylabel('frequency')\n"
   ]
  },
  {
   "cell_type": "code",
   "execution_count": 19,
   "metadata": {},
   "outputs": [
    {
     "data": {
      "text/plain": [
       "value-count\n",
       "Christian Dior         468\n",
       "Chanel                 344\n",
       "Gucci                  333\n",
       "Yves Saint Laurent     288\n",
       "Dolce & Gabbana        267\n",
       "Versace                247\n",
       "Christian Louboutin    237\n",
       "dtype: int64"
      ]
     },
     "execution_count": 19,
     "metadata": {},
     "output_type": "execute_result"
    }
   ],
   "source": [
    "Category_count = df['brand_name'].value_counts()\n",
    "Category_count.rename(column={'brand_name':'value_count'}, inplace=True)\n",
    "Category_count.index.name = 'value-count'\n",
    "Category_count.head(7)"
   ]
  },
  {
   "cell_type": "markdown",
   "metadata": {},
   "source": [
    "The pie chart for the number of item in each brand."
   ]
  },
  {
   "cell_type": "code",
   "execution_count": 20,
   "metadata": {},
   "outputs": [
    {
     "data": {
      "image/png": "[encoded data removed]",
      "text/plain": [
       "<Figure size 360x360 with 1 Axes>"
      ]
     },
     "metadata": {},
     "output_type": "display_data"
    }
   ],
   "source": [
    "count_f = pd.DataFrame({'brand': ['Christian Dior', 'Chanel' , 'Gucci', 'Yves Saint Laurent',\n",
    "                            'Dolce & Gabbana', 'Versace', 'Christian Louboutin'],\n",
    "                   'number': [468, 344, 333, 288, 267, 247, 237]},\n",
    "                   index=['Christian Dior', 'Chanel' , 'Gucci', 'Yves Saint Laurent',\n",
    "                            'Dolce & Gabbana', 'Versace', 'Christian Louboutin'])\n",
    "plot = count_f.plot.pie(y='number', figsize=(5, 5), legend=None)"
   ]
  },
  {
   "cell_type": "code",
   "execution_count": 21,
   "metadata": {},
   "outputs": [
    {
     "data": {
      "text/plain": [
       "product-count\n",
       "shoes          457\n",
       "handbag        419\n",
       "lipstick       228\n",
       "ring           196\n",
       "earrings       164\n",
       "boots          158\n",
       "nail polish    154\n",
       "necklace       150\n",
       "watches        137\n",
       "bracelet       121\n",
       "dtype: int64"
      ]
     },
     "execution_count": 21,
     "metadata": {},
     "output_type": "execute_result"
    }
   ],
   "source": [
    "Category_count = df['product_name'].value_counts()\n",
    "Category_count.rename(column={'product_name':'value_count'}, inplace=True)\n",
    "Category_count.index.name = 'product-count'\n",
    "Category_count.head(10)"
   ]
  },
  {
   "cell_type": "markdown",
   "metadata": {},
   "source": [
    "The pie chart for the number of item in each product."
   ]
  },
  {
   "cell_type": "code",
   "execution_count": 22,
   "metadata": {},
   "outputs": [
    {
     "data": {
      "image/png": "[encoded data removed]",
      "text/plain": [
       "<Figure size 360x360 with 1 Axes>"
      ]
     },
     "metadata": {},
     "output_type": "display_data"
    }
   ],
   "source": [
    "product_f = pd.DataFrame({'brand': ['shoes', 'handbag' , 'lipstick', 'ring',\n",
    "                            'earrings & Gabbana', 'boots', 'nail polish','necklace', 'watches', 'bracelet'],\n",
    "                   'number': [457, 419, 228, 196, 164, 158, 154, 150, 137, 121]},\n",
    "                   index=['shoes', 'handbag' , 'lipstick', 'ring',\n",
    "                            'earrings & Gabbana', 'boots', 'nail polish','necklace', 'watches', 'bracelet'])\n",
    "plot = product_f.plot.pie(y='number', figsize=(5, 5), legend=None)"
   ]
  },
  {
   "cell_type": "markdown",
   "metadata": {},
   "source": [
    "Creating a pivot table for the brands and the products and thier mean prices"
   ]
  },
  {
   "cell_type": "code",
   "execution_count": 23,
   "metadata": {},
   "outputs": [],
   "source": [
    "df_test = df[['product_name', 'brand_name', 'Price']]\n",
    "df_grp = df_test.groupby(['brand_name','product_name'], as_index=False).mean()"
   ]
  },
  {
   "cell_type": "code",
   "execution_count": 24,
   "metadata": {},
   "outputs": [
    {
     "data": {
      "text/html": [
       "<div>\n",
       "<style scoped>\n",
       "    .dataframe tbody tr th:only-of-type {\n",
       "        vertical-align: middle;\n",
       "    }\n",
       "\n",
       "    .dataframe tbody tr th {\n",
       "        vertical-align: top;\n",
       "    }\n",
       "\n",
       "    .dataframe thead tr th {\n",
       "        text-align: left;\n",
       "    }\n",
       "\n",
       "    .dataframe thead tr:last-of-type th {\n",
       "        text-align: right;\n",
       "    }\n",
       "</style>\n",
       "<table border=\"1\" class=\"dataframe\">\n",
       "  <thead>\n",
       "    <tr>\n",
       "      <th></th>\n",
       "      <th colspan=\"10\" halign=\"left\">Price</th>\n",
       "    </tr>\n",
       "    <tr>\n",
       "      <th>product_name</th>\n",
       "      <th>boots</th>\n",
       "      <th>bracelet</th>\n",
       "      <th>earrings</th>\n",
       "      <th>handbag</th>\n",
       "      <th>lipstick</th>\n",
       "      <th>nail polish</th>\n",
       "      <th>necklace</th>\n",
       "      <th>ring</th>\n",
       "      <th>shoes</th>\n",
       "      <th>watches</th>\n",
       "    </tr>\n",
       "    <tr>\n",
       "      <th>brand_name</th>\n",
       "      <th></th>\n",
       "      <th></th>\n",
       "      <th></th>\n",
       "      <th></th>\n",
       "      <th></th>\n",
       "      <th></th>\n",
       "      <th></th>\n",
       "      <th></th>\n",
       "      <th></th>\n",
       "      <th></th>\n",
       "    </tr>\n",
       "  </thead>\n",
       "  <tbody>\n",
       "    <tr>\n",
       "      <th>Chanel</th>\n",
       "      <td>144.852813</td>\n",
       "      <td>110.218095</td>\n",
       "      <td>155.601667</td>\n",
       "      <td>157.689091</td>\n",
       "      <td>143.347667</td>\n",
       "      <td>168.381176</td>\n",
       "      <td>168.225952</td>\n",
       "      <td>137.221724</td>\n",
       "      <td>164.515849</td>\n",
       "      <td>159.125714</td>\n",
       "    </tr>\n",
       "    <tr>\n",
       "      <th>Christian Dior</th>\n",
       "      <td>156.542105</td>\n",
       "      <td>135.988387</td>\n",
       "      <td>136.744898</td>\n",
       "      <td>157.235652</td>\n",
       "      <td>138.004464</td>\n",
       "      <td>153.878065</td>\n",
       "      <td>166.152308</td>\n",
       "      <td>160.282683</td>\n",
       "      <td>138.357333</td>\n",
       "      <td>139.629362</td>\n",
       "    </tr>\n",
       "    <tr>\n",
       "      <th>Christian Louboutin</th>\n",
       "      <td>149.541724</td>\n",
       "      <td>NaN</td>\n",
       "      <td>NaN</td>\n",
       "      <td>142.283571</td>\n",
       "      <td>153.353636</td>\n",
       "      <td>144.014737</td>\n",
       "      <td>NaN</td>\n",
       "      <td>NaN</td>\n",
       "      <td>163.762041</td>\n",
       "      <td>NaN</td>\n",
       "    </tr>\n",
       "    <tr>\n",
       "      <th>Dolce &amp; Gabbana</th>\n",
       "      <td>170.140556</td>\n",
       "      <td>146.936000</td>\n",
       "      <td>180.730000</td>\n",
       "      <td>163.298235</td>\n",
       "      <td>117.595263</td>\n",
       "      <td>120.421429</td>\n",
       "      <td>118.901667</td>\n",
       "      <td>160.227143</td>\n",
       "      <td>157.893099</td>\n",
       "      <td>114.784000</td>\n",
       "    </tr>\n",
       "    <tr>\n",
       "      <th>Gucci</th>\n",
       "      <td>148.664667</td>\n",
       "      <td>144.848333</td>\n",
       "      <td>147.578000</td>\n",
       "      <td>143.910588</td>\n",
       "      <td>151.790000</td>\n",
       "      <td>192.891111</td>\n",
       "      <td>143.067273</td>\n",
       "      <td>129.457234</td>\n",
       "      <td>141.164750</td>\n",
       "      <td>142.948077</td>\n",
       "    </tr>\n",
       "    <tr>\n",
       "      <th>Versace</th>\n",
       "      <td>153.445000</td>\n",
       "      <td>143.512500</td>\n",
       "      <td>130.510952</td>\n",
       "      <td>158.620921</td>\n",
       "      <td>NaN</td>\n",
       "      <td>NaN</td>\n",
       "      <td>138.230000</td>\n",
       "      <td>189.143478</td>\n",
       "      <td>149.056333</td>\n",
       "      <td>165.821053</td>\n",
       "    </tr>\n",
       "    <tr>\n",
       "      <th>Yves Saint Laurent</th>\n",
       "      <td>168.580000</td>\n",
       "      <td>152.808333</td>\n",
       "      <td>175.328095</td>\n",
       "      <td>155.529273</td>\n",
       "      <td>167.016939</td>\n",
       "      <td>166.108667</td>\n",
       "      <td>129.890667</td>\n",
       "      <td>119.182500</td>\n",
       "      <td>147.162600</td>\n",
       "      <td>NaN</td>\n",
       "    </tr>\n",
       "  </tbody>\n",
       "</table>\n",
       "</div>"
      ],
      "text/plain": [
       "                          Price                                      \\\n",
       "product_name              boots    bracelet    earrings     handbag   \n",
       "brand_name                                                            \n",
       "Chanel               144.852813  110.218095  155.601667  157.689091   \n",
       "Christian Dior       156.542105  135.988387  136.744898  157.235652   \n",
       "Christian Louboutin  149.541724         NaN         NaN  142.283571   \n",
       "Dolce & Gabbana      170.140556  146.936000  180.730000  163.298235   \n",
       "Gucci                148.664667  144.848333  147.578000  143.910588   \n",
       "Versace              153.445000  143.512500  130.510952  158.620921   \n",
       "Yves Saint Laurent   168.580000  152.808333  175.328095  155.529273   \n",
       "\n",
       "                                                                     \\\n",
       "product_name           lipstick nail polish    necklace        ring   \n",
       "brand_name                                                            \n",
       "Chanel               143.347667  168.381176  168.225952  137.221724   \n",
       "Christian Dior       138.004464  153.878065  166.152308  160.282683   \n",
       "Christian Louboutin  153.353636  144.014737         NaN         NaN   \n",
       "Dolce & Gabbana      117.595263  120.421429  118.901667  160.227143   \n",
       "Gucci                151.790000  192.891111  143.067273  129.457234   \n",
       "Versace                     NaN         NaN  138.230000  189.143478   \n",
       "Yves Saint Laurent   167.016939  166.108667  129.890667  119.182500   \n",
       "\n",
       "                                             \n",
       "product_name              shoes     watches  \n",
       "brand_name                                   \n",
       "Chanel               164.515849  159.125714  \n",
       "Christian Dior       138.357333  139.629362  \n",
       "Christian Louboutin  163.762041         NaN  \n",
       "Dolce & Gabbana      157.893099  114.784000  \n",
       "Gucci                141.164750  142.948077  \n",
       "Versace              149.056333  165.821053  \n",
       "Yves Saint Laurent   147.162600         NaN  "
      ]
     },
     "execution_count": 24,
     "metadata": {},
     "output_type": "execute_result"
    }
   ],
   "source": [
    "df_pivot = df_grp.pivot(index='brand_name', columns= 'product_name')\n",
    "df_pivot"
   ]
  },
  {
   "cell_type": "markdown",
   "metadata": {},
   "source": [
    "### Just a show case of seaborn as the visualization tools"
   ]
  },
  {
   "cell_type": "code",
   "execution_count": 25,
   "metadata": {},
   "outputs": [
    {
     "data": {
      "text/plain": [
       "<matplotlib.axes._subplots.AxesSubplot at 0x1a21a6b5f8>"
      ]
     },
     "execution_count": 25,
     "metadata": {},
     "output_type": "execute_result"
    },
    {
     "data": {
      "image/png": "[encoded data removed]",
      "text/plain": [
       "<Figure size 432x288 with 2 Axes>"
      ]
     },
     "metadata": {
      "needs_background": "light"
     },
     "output_type": "display_data"
    }
   ],
   "source": [
    "import seaborn as sns\n",
    "sns.heatmap(df_pivot, annot=False)"
   ]
  },
  {
   "cell_type": "markdown",
   "metadata": {},
   "source": [
    "## Anova measures between the prices of \"Dior\" and \"versace\""
   ]
  },
  {
   "cell_type": "code",
   "execution_count": 26,
   "metadata": {},
   "outputs": [],
   "source": [
    "df_anova = df[['brand_name','Price']]\n",
    "grouped_anova = df_anova.groupby(['brand_name'])"
   ]
  },
  {
   "cell_type": "code",
   "execution_count": 27,
   "metadata": {},
   "outputs": [
    {
     "data": {
      "text/plain": [
       "F_onewayResult(statistic=0.7952397335013653, pvalue=0.37282127448409363)"
      ]
     },
     "execution_count": 27,
     "metadata": {},
     "output_type": "execute_result"
    }
   ],
   "source": [
    "anova_results_1 = scipy.stats.f_oneway(grouped_anova.get_group('Christian Dior')['Price'],\n",
    "                                 grouped_anova.get_group('Versace')['Price'] )\n",
    "anova_results_1"
   ]
  },
  {
   "cell_type": "markdown",
   "metadata": {},
   "source": [
    "This indicate there is a large correlation between the brands name and the price "
   ]
  },
  {
   "cell_type": "code",
   "execution_count": 28,
   "metadata": {},
   "outputs": [],
   "source": [
    "df_anova_2 = df[['product_name','Price']]\n",
    "grouped_anova_2 = df_anova_2.groupby(['product_name'])"
   ]
  },
  {
   "cell_type": "code",
   "execution_count": 29,
   "metadata": {},
   "outputs": [
    {
     "data": {
      "text/plain": [
       "F_onewayResult(statistic=0.11235906768562738, pvalue=0.7375888670733441)"
      ]
     },
     "execution_count": 29,
     "metadata": {},
     "output_type": "execute_result"
    }
   ],
   "source": [
    "anova_results_2 = scipy.stats.f_oneway(grouped_anova_2.get_group('shoes')['Price'],\n",
    "                                 grouped_anova_2.get_group('boots')['Price'] )\n",
    "anova_results_2"
   ]
  },
  {
   "cell_type": "markdown",
   "metadata": {},
   "source": [
    "This indicate there is a small correlation between the product shoes, and boots pricewise."
   ]
  },
  {
   "cell_type": "code",
   "execution_count": 30,
   "metadata": {},
   "outputs": [
    {
     "data": {
      "text/plain": [
       "(0, 315.1425120180937)"
      ]
     },
     "execution_count": 30,
     "metadata": {},
     "output_type": "execute_result"
    },
    {
     "data": {
      "image/png": "[encoded data removed]",
      "text/plain": [
       "<Figure size 432x288 with 1 Axes>"
      ]
     },
     "metadata": {
      "needs_background": "light"
     },
     "output_type": "display_data"
    }
   ],
   "source": [
    "sns.regplot(x='brand_label', y='Price', data=df)\n",
    "plt.ylim(0,)"
   ]
  },
  {
   "cell_type": "markdown",
   "metadata": {},
   "source": [
    "## Transforming the .csv file to the sql form, then assigning the \"file_name\" as the primary key"
   ]
  },
  {
   "cell_type": "code",
   "execution_count": 31,
   "metadata": {},
   "outputs": [],
   "source": [
    "x = df1[\"file_name\"]\n",
    "np.unique(x).size == len(x)\n",
    "import collections\n",
    "for item, count in collections.Counter(x).items():\n",
    "    if count > 1:\n",
    "        print(item)"
   ]
  },
  {
   "cell_type": "markdown",
   "metadata": {},
   "source": [
    "Unfortunately there is no way  to set a primary key in the pandas df.to_sql() method directly. Additionally, just to make things more of a pain there is no way to set a primary key on a column in sqlite after a table has been created. A work around is to create the table in sqlite with the pandas df.to_sql() method. Then one could create a duplicate table and set the primary key followed by copying your data over. "
   ]
  },
  {
   "cell_type": "code",
   "execution_count": 32,
   "metadata": {},
   "outputs": [],
   "source": [
    "# Some functions that provide a work around\n",
    "\n",
    "import re\n",
    "def get_create_table_string(tablename, connection):\n",
    "    sql = \"\"\"\n",
    "    select * from sqlite_master where name = \"{}\" and type = \"table\"\n",
    "    \"\"\".format(tablename) \n",
    "    result = connection.execute(sql)\n",
    "    \n",
    "    create_table_string = result.fetchmany()[0][4]\n",
    "    return create_table_string\n",
    "\n",
    "def add_pk_to_create_table_string(create_table_string, colname):\n",
    "    regex = \"(\\n.+{}[^,]+)(,)\".format(colname)\n",
    "    return re.sub(regex, \"\\\\1 PRIMARY KEY,\",  create_table_string)\n",
    "    \n",
    "def add_pk_to_sqlite_table(tablename, index_column, connection):\n",
    "    cts = get_create_table_string(tablename, connection)\n",
    "    cts = add_pk_to_create_table_string(cts, index_column)\n",
    "    template = \"\"\"\n",
    "    BEGIN TRANSACTION;\n",
    "        ALTER TABLE {tablename} RENAME TO {tablename}_old_;\n",
    "        \n",
    "        {cts};\n",
    "        \n",
    "        INSERT INTO {tablename} SELECT * FROM {tablename}_old_;\n",
    "        \n",
    "        DROP TABLE {tablename}_old_;\n",
    "        \n",
    "    COMMIT TRANSACTION;\n",
    "    \"\"\"\n",
    "    \n",
    "    create_and_drop_sql = template.format(tablename = tablename, cts = cts)\n",
    "    connection.executescript(create_and_drop_sql)"
   ]
  },
  {
   "cell_type": "markdown",
   "metadata": {},
   "source": [
    "checking to see if there is a repeated file name"
   ]
  },
  {
   "cell_type": "markdown",
   "metadata": {},
   "source": [
    "Transforming the panda dataframe to sql files."
   ]
  },
  {
   "cell_type": "code",
   "execution_count": 40,
   "metadata": {
    "scrolled": true
   },
   "outputs": [],
   "source": [
    "import sqlite3\n",
    "\n",
    "con = sqlite3.connect(\"deleteme.db\")\n",
    "df1.to_sql(\"T1\", con, if_exists=\"replace\")"
   ]
  },
  {
   "cell_type": "code",
   "execution_count": 41,
   "metadata": {},
   "outputs": [
    {
     "name": "stdout",
     "output_type": "stream",
     "text": [
      "CREATE TABLE \"df1\" (\n",
      "\"index\" INTEGER,\n",
      "  \"file_name\" TEXT PRIMARY KEY,\n",
      "  \"brand_name\" TEXT,\n",
      "  \"product_name\" TEXT,\n",
      "  \"Price\" REAL\n",
      ")\n"
     ]
    }
   ],
   "source": [
    "add_pk_to_sqlite_table(\"T1\", \"file_name\", con)\n",
    "r = con.execute(\"select sql from sqlite_master where name = 'df1' and type = 'table'\")\n",
    "print(r.fetchone()[0])"
   ]
  },
  {
   "cell_type": "code",
   "execution_count": 8,
   "metadata": {
    "scrolled": true
   },
   "outputs": [
    {
     "data": {
      "text/plain": [
       "'Connected: @None'"
      ]
     },
     "execution_count": 8,
     "metadata": {},
     "output_type": "execute_result"
    }
   ],
   "source": [
    "%load_ext sql\n",
    "%sql sqlite://"
   ]
  },
  {
   "cell_type": "code",
   "execution_count": 44,
   "metadata": {},
   "outputs": [
    {
     "name": "stdout",
     "output_type": "stream",
     "text": [
      " * sqlite://\n",
      "Done.\n"
     ]
    },
    {
     "data": {
      "text/plain": [
       "[]"
      ]
     },
     "execution_count": 44,
     "metadata": {},
     "output_type": "execute_result"
    }
   ],
   "source": [
    "%%sql \n",
    "CREATE TABLE \"T1\" (\n",
    "\"index\" INTEGER,\n",
    "  \"file_name\" TEXT PRIMARY KEY,\n",
    "  \"brand_name\" TEXT,\n",
    "  \"product_name\" TEXT,\n",
    "  \"Price\" REAL\n",
    ")"
   ]
  },
  {
   "cell_type": "markdown",
   "metadata": {},
   "source": [
    "# Shopping Backet Problem"
   ]
  },
  {
   "cell_type": "code",
   "execution_count": 56,
   "metadata": {},
   "outputs": [],
   "source": [
    "# A greedy algorithem for the basket problem, Assuming that we can buy an Item only once\n"
   ]
  },
  {
   "cell_type": "code",
   "execution_count": 58,
   "metadata": {},
   "outputs": [
    {
     "data": {
      "text/html": [
       "<div>\n",
       "<style scoped>\n",
       "    .dataframe tbody tr th:only-of-type {\n",
       "        vertical-align: middle;\n",
       "    }\n",
       "\n",
       "    .dataframe tbody tr th {\n",
       "        vertical-align: top;\n",
       "    }\n",
       "\n",
       "    .dataframe thead th {\n",
       "        text-align: right;\n",
       "    }\n",
       "</style>\n",
       "<table border=\"1\" class=\"dataframe\">\n",
       "  <thead>\n",
       "    <tr style=\"text-align: right;\">\n",
       "      <th></th>\n",
       "      <th>brand_name</th>\n",
       "      <th>brand_label</th>\n",
       "      <th>product_name</th>\n",
       "      <th>product_label</th>\n",
       "      <th>file_name</th>\n",
       "      <th>Price</th>\n",
       "    </tr>\n",
       "  </thead>\n",
       "  <tbody>\n",
       "    <tr>\n",
       "      <th>0</th>\n",
       "      <td>Christian Louboutin</td>\n",
       "      <td>0</td>\n",
       "      <td>shoes</td>\n",
       "      <td>0</td>\n",
       "      <td>0_0_001.png</td>\n",
       "      <td>293.43</td>\n",
       "    </tr>\n",
       "    <tr>\n",
       "      <th>1</th>\n",
       "      <td>Christian Louboutin</td>\n",
       "      <td>0</td>\n",
       "      <td>shoes</td>\n",
       "      <td>0</td>\n",
       "      <td>0_0_002.png</td>\n",
       "      <td>299.84</td>\n",
       "    </tr>\n",
       "  </tbody>\n",
       "</table>\n",
       "</div>"
      ],
      "text/plain": [
       "            brand_name  brand_label product_name  product_label    file_name  \\\n",
       "0  Christian Louboutin            0        shoes              0  0_0_001.png   \n",
       "1  Christian Louboutin            0        shoes              0  0_0_002.png   \n",
       "\n",
       "    Price  \n",
       "0  293.43  \n",
       "1  299.84  "
      ]
     },
     "execution_count": 58,
     "metadata": {},
     "output_type": "execute_result"
    }
   ],
   "source": [
    "df_A = pd.read_csv('Label.csv' )\n",
    "df_A.head(2)"
   ]
  },
  {
   "cell_type": "code",
   "execution_count": 61,
   "metadata": {},
   "outputs": [
    {
     "data": {
      "text/html": [
       "<div>\n",
       "<style scoped>\n",
       "    .dataframe tbody tr th:only-of-type {\n",
       "        vertical-align: middle;\n",
       "    }\n",
       "\n",
       "    .dataframe tbody tr th {\n",
       "        vertical-align: top;\n",
       "    }\n",
       "\n",
       "    .dataframe thead th {\n",
       "        text-align: right;\n",
       "    }\n",
       "</style>\n",
       "<table border=\"1\" class=\"dataframe\">\n",
       "  <thead>\n",
       "    <tr style=\"text-align: right;\">\n",
       "      <th></th>\n",
       "      <th>file_name</th>\n",
       "      <th>brand_name</th>\n",
       "      <th>product_name</th>\n",
       "      <th>Price</th>\n",
       "    </tr>\n",
       "  </thead>\n",
       "  <tbody>\n",
       "    <tr>\n",
       "      <th>0</th>\n",
       "      <td>0_0_001.png</td>\n",
       "      <td>Christian Louboutin</td>\n",
       "      <td>shoes</td>\n",
       "      <td>293.43</td>\n",
       "    </tr>\n",
       "    <tr>\n",
       "      <th>1</th>\n",
       "      <td>0_0_002.png</td>\n",
       "      <td>Christian Louboutin</td>\n",
       "      <td>shoes</td>\n",
       "      <td>299.84</td>\n",
       "    </tr>\n",
       "    <tr>\n",
       "      <th>2</th>\n",
       "      <td>0_0_003.png</td>\n",
       "      <td>Christian Louboutin</td>\n",
       "      <td>shoes</td>\n",
       "      <td>216.33</td>\n",
       "    </tr>\n",
       "    <tr>\n",
       "      <th>3</th>\n",
       "      <td>0_0_004.png</td>\n",
       "      <td>Christian Louboutin</td>\n",
       "      <td>shoes</td>\n",
       "      <td>1.71</td>\n",
       "    </tr>\n",
       "    <tr>\n",
       "      <th>4</th>\n",
       "      <td>0_0_005.png</td>\n",
       "      <td>Christian Louboutin</td>\n",
       "      <td>shoes</td>\n",
       "      <td>297.71</td>\n",
       "    </tr>\n",
       "  </tbody>\n",
       "</table>\n",
       "</div>"
      ],
      "text/plain": [
       "     file_name           brand_name product_name   Price\n",
       "0  0_0_001.png  Christian Louboutin        shoes  293.43\n",
       "1  0_0_002.png  Christian Louboutin        shoes  299.84\n",
       "2  0_0_003.png  Christian Louboutin        shoes  216.33\n",
       "3  0_0_004.png  Christian Louboutin        shoes    1.71\n",
       "4  0_0_005.png  Christian Louboutin        shoes  297.71"
      ]
     },
     "execution_count": 61,
     "metadata": {},
     "output_type": "execute_result"
    }
   ],
   "source": [
    "df_B = df_A[['file_name', 'brand_name', 'product_name', 'Price',]]\n",
    "df_B.head(5)"
   ]
  },
  {
   "cell_type": "code",
   "execution_count": 71,
   "metadata": {},
   "outputs": [],
   "source": [
    "df_sorted = df_B.sort_values('Price', ascending=False)"
   ]
  },
  {
   "cell_type": "code",
   "execution_count": 72,
   "metadata": {},
   "outputs": [
    {
     "data": {
      "text/html": [
       "<div>\n",
       "<style scoped>\n",
       "    .dataframe tbody tr th:only-of-type {\n",
       "        vertical-align: middle;\n",
       "    }\n",
       "\n",
       "    .dataframe tbody tr th {\n",
       "        vertical-align: top;\n",
       "    }\n",
       "\n",
       "    .dataframe thead th {\n",
       "        text-align: right;\n",
       "    }\n",
       "</style>\n",
       "<table border=\"1\" class=\"dataframe\">\n",
       "  <thead>\n",
       "    <tr style=\"text-align: right;\">\n",
       "      <th></th>\n",
       "      <th>file_name</th>\n",
       "      <th>brand_name</th>\n",
       "      <th>product_name</th>\n",
       "      <th>Price</th>\n",
       "    </tr>\n",
       "  </thead>\n",
       "  <tbody>\n",
       "    <tr>\n",
       "      <th>1453</th>\n",
       "      <td>4_5_033.png</td>\n",
       "      <td>Christian Dior</td>\n",
       "      <td>watches</td>\n",
       "      <td>299.92</td>\n",
       "    </tr>\n",
       "    <tr>\n",
       "      <th>1</th>\n",
       "      <td>0_0_002.png</td>\n",
       "      <td>Christian Louboutin</td>\n",
       "      <td>shoes</td>\n",
       "      <td>299.84</td>\n",
       "    </tr>\n",
       "    <tr>\n",
       "      <th>2007</th>\n",
       "      <td>6_2_013.png</td>\n",
       "      <td>Yves Saint Laurent</td>\n",
       "      <td>handbag</td>\n",
       "      <td>299.80</td>\n",
       "    </tr>\n",
       "    <tr>\n",
       "      <th>2067</th>\n",
       "      <td>6_3_018.png</td>\n",
       "      <td>Yves Saint Laurent</td>\n",
       "      <td>nail polish</td>\n",
       "      <td>299.31</td>\n",
       "    </tr>\n",
       "    <tr>\n",
       "      <th>1815</th>\n",
       "      <td>5_5_017.png</td>\n",
       "      <td>Versace</td>\n",
       "      <td>watches</td>\n",
       "      <td>299.03</td>\n",
       "    </tr>\n",
       "  </tbody>\n",
       "</table>\n",
       "</div>"
      ],
      "text/plain": [
       "        file_name           brand_name product_name   Price\n",
       "1453  4_5_033.png       Christian Dior      watches  299.92\n",
       "1     0_0_002.png  Christian Louboutin        shoes  299.84\n",
       "2007  6_2_013.png   Yves Saint Laurent      handbag  299.80\n",
       "2067  6_3_018.png   Yves Saint Laurent  nail polish  299.31\n",
       "1815  5_5_017.png              Versace      watches  299.03"
      ]
     },
     "execution_count": 72,
     "metadata": {},
     "output_type": "execute_result"
    }
   ],
   "source": [
    "df_sorted.head(5)"
   ]
  },
  {
   "cell_type": "code",
   "execution_count": 119,
   "metadata": {},
   "outputs": [
    {
     "name": "stdout",
     "output_type": "stream",
     "text": [
      "Minimum 10 item is necessary and total cost would be 2990.65$\n"
     ]
    }
   ],
   "source": [
    "sum = 0\n",
    "iter = 0\n",
    "for row in df_sorted.iterrows():    \n",
    "        sum = sum + df_sorted.Price[row[0]]\n",
    "        iter += 1\n",
    "        if sum <= 3020 and sum > 2980:\n",
    "            print(\"Minimum {} item is necessary and total cost would be {}$\".format(iter, sum))\n",
    "            break\n",
    "    "
   ]
  },
  {
   "cell_type": "markdown",
   "metadata": {},
   "source": [
    "#### the minimum number of item that cost 3020 > S >2980 is 10 Item "
   ]
  },
  {
   "cell_type": "markdown",
   "metadata": {},
   "source": [
    "I used a very gready algorithem, and I kinda cheat by using the sort functionality of the panda library.\n",
    "One may write a function to do the sorting of the data_frome. Unfortunatly I did not have time to do it. The time/space complexity of the problem stems from the sorting of the data_frame which is a O(nlogn) and n is the number of the rows.  \n"
   ]
  },
  {
   "cell_type": "markdown",
   "metadata": {},
   "source": [
    "If I had time I would use a bucket sort algorithem to sort the data_frame by the price, \n",
    "and it has O(N(klogk)) where N is the Number of the Buckets and k is the number of items in each buckets.\n",
    "I assume that the price id uniformely distributed in the space. The histogram of the data agrees with it."
   ]
  }
 ],
 "metadata": {
  "kernelspec": {
   "display_name": "Python 3",
   "language": "python",
   "name": "python3"
  },
  "language_info": {
   "codemirror_mode": {
    "name": "ipython",
    "version": 3
   },
   "file_extension": ".py",
   "mimetype": "text/x-python",
   "name": "python",
   "nbconvert_exporter": "python",
   "pygments_lexer": "ipython3",
   "version": "3.7.3"
  }
 },
 "nbformat": 4,
 "nbformat_minor": 2
}
